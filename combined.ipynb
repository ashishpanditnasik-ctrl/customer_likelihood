{
 "cells": [
  {
   "cell_type": "markdown",
   "id": "5a055285",
   "metadata": {},
   "source": [
    "## High-Level Overview\n",
    "\n",
    "In today’s data-driven business landscape, understanding customer behavior is essential for crafting effective marketing strategies and improving customer acquisition. This project, conducted in collaboration with Bertelsmann Arvato Analytics via Udacity, aims to develop a comprehensive customer segmentation and marketing response prediction framework for a German mail-order company.\n",
    "\n",
    "The core objective is twofold:\n",
    "1. **Customer Segmentation**: Use unsupervised learning techniques to identify demographics that are overrepresented among existing customers, thereby defining the company’s core customer profile.\n",
    "2. **Campaign Response Prediction**: Apply supervised learning models to predict which individuals are most likely to respond positively to future marketing campaigns.\n",
    "\n",
    "By analyzing rich demographic datasets from both the general population and existing customers, the project uncovers actionable insights that enable targeted marketing and improved campaign ROI. The significance of this work lies in its ability to bridge data science with strategic decision-making, offering scalable solutions for customer targeting in real-world business scenarios.\n"
   ]
  },
  {
   "cell_type": "markdown",
   "id": "feef09d9",
   "metadata": {},
   "source": [
    "## Description of Input Data\n",
    "\n",
    "The dataset used in this project was provided by **Bertelsmann Arvato Analytics** through **Udacity**, representing a real-world customer analytics scenario for a German mail-order company. The data is rich in demographic attributes and is divided into four semicolon-delimited CSV files, each serving a distinct purpose:\n",
    "\n",
    "### 1. `Udacity_AZDIAS_052018.csv`\n",
    "- **Purpose**: Represents the general population of Germany.\n",
    "- **Size**: ~890,000 records with 366 features.\n",
    "- **Significance**: Serves as a baseline for comparing customer demographics and identifying overrepresented segments.\n",
    "\n",
    "### 2. `Udacity_CUSTOMERS_052018.csv`\n",
    "- **Purpose**: Contains demographic data for ~190,000 existing customers.\n",
    "- **Features**: 369 columns, including:\n",
    "  - `CUSTOMER_GROUP`: Customer classification.\n",
    "  - `ONLINE_PURCHASE`: Indicates online purchasing behavior.\n",
    "  - `PRODUCT_GROUP`: Product category preferences.\n",
    "- **Significance**: Helps define the core customer profile and behavioral traits.\n",
    "\n",
    "### 3. `Udacity_MAILOUT_052018_TRAIN.csv`\n",
    "- **Purpose**: Data from a past marketing campaign.\n",
    "- **Size**: ~42,982 records with 367 features.\n",
    "- **Label**: Includes a `RESPONSE` column indicating whether the individual responded to the campaign.\n",
    "- **Significance**: Used to train supervised models for predicting future campaign responses.\n",
    "\n",
    "### 4. `Udacity_MAILOUT_052018_TEST.csv`\n",
    "- **Purpose**: Similar to the training set but without the `RESPONSE` label.\n",
    "- **Significance**: Used to simulate real-world deployment and evaluate model predictions.\n",
    "\n",
    "### Key Characteristics\n",
    "- **High Dimensionality**: Hundreds of features spanning personal, household, and regional attributes.\n",
    "- **Data Quality Issues**: Missing values, mixed data types, and low-variance features required extensive preprocessing.\n",
    "- **Analytical Value**: Enables both unsupervised segmentation and supervised prediction, supporting strategic marketing decisions.\n",
    "\n",
    "These datasets collectively provide a comprehensive view of customer and population demographics, forming the foundation for segmentation and predictive modeling efforts.\n"
   ]
  },
  {
   "cell_type": "markdown",
   "id": "7e4fa5d0",
   "metadata": {},
   "source": [
    "## Strategy for Solving the Problem\n",
    "\n",
    "The project employs a comprehensive data science workflow to address two key challenges: identifying core customer segments and predicting marketing campaign responses. The strategy is divided into two main phases — **unsupervised learning** for customer segmentation and **supervised learning** for response prediction.\n",
    "\n",
    "### Phase 1: Unsupervised Learning – Customer Segmentation\n",
    "\n",
    "To uncover patterns in customer demographics, the following techniques were used:\n",
    "\n",
    "- **Principal Component Analysis (PCA)**: Reduces the high-dimensional feature space into a lower-dimensional representation (three components), preserving the most significant variance. This simplifies the data and aids in visualization.\n",
    "- **Kernel Density Estimation (KDE)**: A non-parametric method used to estimate the probability density function of customer profiles in the PCA space. KDE identifies regions of high customer density, enabling the scoring of general population individuals based on their similarity to existing customers.\n",
    "\n",
    "**Rationale**: This approach is ideal when labeled data is unavailable. It allows the company to identify potential customers by comparing demographic similarity to known customers.\n",
    "\n",
    "### Phase 2: Supervised Learning – Campaign Response Prediction\n",
    "\n",
    "To predict which individuals are likely to respond to marketing efforts, the following methodology was applied:\n",
    "\n",
    "- **Logistic Regression**: A baseline classification model trained on labeled campaign data (`RESPONSE` column). It predicts the likelihood of a positive response.\n",
    "- **Feature Scaling**: StandardScaler was used to normalize input features, ensuring consistent model performance.\n",
    "- **Class Imbalance Handling**: The model was trained with `class_weight='balanced'` to address the skewed distribution of responders vs. non-responders.\n",
    "- **Evaluation Metrics**: Accuracy, precision, recall, F1-score, and confusion matrix were used to assess model performance, with a focus on **recall** to minimize missed opportunities.\n",
    "\n",
    "**Rationale**: Logistic regression offers interpretability and efficiency, making it a suitable starting point. Emphasis on recall ensures that potential responders are not overlooked, which is critical for campaign ROI.\n",
    "\n",
    "### Overall Approach\n",
    "\n",
    "The project follows an end-to-end pipeline:\n",
    "1. **Data Cleaning & Preprocessing**: Handling missing values, mixed data types, and irrelevant features.\n",
    "2. **Exploratory Data Analysis (EDA)**: Understanding distributions and guiding feature selection.\n",
    "3. **Modeling**: Applying PCA + KDE for segmentation and logistic regression for prediction.\n",
    "4. **Recommendations**: Offering actionable insights and suggesting improvements like hyperparameter tuning, advanced models (e.g., XGBoost), and feature engineering.\n",
    "\n",
    "This structured methodology ensures robust, data-driven decision-making for customer targeting and campaign optimization.\n"
   ]
  },
  {
   "cell_type": "markdown",
   "id": "d5dd14e0",
   "metadata": {},
   "source": [
    "## Discussion of the Expected Solution\n",
    "\n",
    "The proposed solution integrates both **unsupervised** and **supervised** learning techniques to address the dual objectives of customer segmentation and marketing response prediction. The architecture follows a modular, end-to-end data science workflow designed for scalability and real-world applicability.\n",
    "\n",
    "### Overall Workflow Architecture\n",
    "\n",
    "1. **Data Acquisition & Preprocessing**\n",
    "   - Multiple datasets are ingested, including customer data, general population data, and campaign response data.\n",
    "   - Preprocessing steps include:\n",
    "     - Handling missing values and mixed data types.\n",
    "     - Feature engineering (e.g., date transformations).\n",
    "     - Dropping low-variance and high-missing columns.\n",
    "     - Encoding categorical variables and scaling numerical features.\n",
    "\n",
    "2. **Exploratory Data Analysis (EDA)**\n",
    "   - Distribution analysis and comparative histograms are used to identify demographic differences between customers and the general population.\n",
    "   - Categorical and numerical features are explored to guide model input selection.\n",
    "\n",
    "3. **Unsupervised Learning: Customer Segmentation**\n",
    "   - **PCA (Principal Component Analysis)** reduces dimensionality while preserving variance.\n",
    "   - **KDE (Kernel Density Estimation)** models the distribution of customer profiles in the PCA space.\n",
    "   - Individuals from the general population are scored based on their similarity to existing customers, enabling targeted marketing.\n",
    "\n",
    "4. **Supervised Learning: Campaign Response Prediction**\n",
    "   - **Logistic Regression** is trained on labeled campaign data to predict response likelihood.\n",
    "   - Feature scaling and class balancing are applied to improve model robustness.\n",
    "   - Evaluation metrics include accuracy, precision, recall, and F1-score, with a focus on **recall** to minimize missed opportunities.\n",
    "\n",
    "5. **Model Deployment & Recommendations**\n",
    "   - Predictions are generated for the test set to simulate real-world campaign targeting.\n",
    "   - Recommendations include:\n",
    "     - Tuning KDE bandwidth.\n",
    "     - Increasing PCA components.\n",
    "     - Exploring advanced classifiers (e.g., XGBoost).\n",
    "     - Addressing class imbalance with techniques like SMOTE.\n",
    "     - Enhancing feature engineering and model evaluation strategies.\n",
    "\n",
    "### Component Integration\n",
    "\n",
    "- **Data Cleaning** ensures consistency across datasets, enabling reliable modeling.\n",
    "- **EDA** informs feature selection and highlights key demographic patterns.\n",
    "- **Unsupervised Learning** identifies high-potential customer segments without requiring labels.\n",
    "- **Supervised Learning** predicts campaign success, optimizing outreach efforts.\n",
    "- **Recommendations** provide a roadmap for future improvements and scalability.\n",
    "\n",
    "This integrated approach allows the business to both understand its existing customer base and proactively identify and engage new prospects, ultimately driving more effective and data-informed marketing strategies.\n"
   ]
  },
  {
   "cell_type": "markdown",
   "id": "6ec07568",
   "metadata": {},
   "source": [
    "## Metrics with Justification\n",
    "\n",
    "To evaluate the performance of the supervised learning model predicting marketing campaign responses, several metrics were used. Each metric offers a different perspective on model effectiveness, but **recall** stands out as the most critical in this context.\n",
    "\n",
    "### 1. **Accuracy**\n",
    "- **Definition**: The proportion of correctly predicted instances out of all predictions.\n",
    "- **Use Case**: Provides a general overview of model performance.\n",
    "- **Limitation**: In imbalanced datasets — such as this one, where non-responders vastly outnumber responders — accuracy can be misleading. A model that predicts everyone as a non-responder could still achieve high accuracy, while failing to identify actual responders.\n",
    "\n",
    "### 2. **Precision**\n",
    "- **Definition**: The proportion of true positive predictions among all positive predictions.\n",
    "- **Use Case**: Useful when the cost of false positives is high.\n",
    "- **Relevance**: Helps avoid targeting uninterested individuals, but is secondary to recall in this scenario.\n",
    "\n",
    "### 3. **Recall (Sensitivity)**\n",
    "- **Definition**: The proportion of actual responders correctly identified by the model.\n",
    "- **Use Case**: Measures the model’s ability to capture true positives.\n",
    "- **Relevance**: **Most important metric** in this project. In marketing, missing a potential responder (false negative) means a lost opportunity for engagement or conversion — which directly impacts revenue. Prioritizing recall ensures that the model identifies as many actual responders as possible, even if it means accepting some false positives.\n",
    "\n",
    "### 4. **F1-Score**\n",
    "- **Definition**: Harmonic mean of precision and recall.\n",
    "- **Use Case**: Balances the trade-off between precision and recall.\n",
    "- **Relevance**: Useful for summarizing model performance when both false positives and false negatives matter.\n",
    "\n",
    "### 5. **Confusion Matrix**\n",
    "- **Definition**: A breakdown of true positives, true negatives, false positives, and false negatives.\n",
    "- **Use Case**: Offers a detailed view of prediction outcomes and error types.\n",
    "- **Relevance**: Helps diagnose model behavior and refine strategies.\n",
    "\n",
    "### Why Recall Matters Most\n",
    "\n",
    "In this project, the goal is to **maximize the effectiveness of marketing outreach**. A model with high recall ensures that most individuals who are likely to respond are identified and targeted. While precision and accuracy are valuable, they are less critical than recall in this context. Missing a responder (false negative) is more costly than mistakenly targeting a non-responder (false positive), making **recall the most relevant and impactful metric for success**.\n"
   ]
  },
  {
   "cell_type": "code",
   "execution_count": 65,
   "id": "41f22881",
   "metadata": {},
   "outputs": [],
   "source": [
    "import matplotlib.pyplot as plt\n",
    "from sklearn.preprocessing import StandardScaler\n",
    "from sklearn.decomposition import PCA\n",
    "from sklearn.neighbors import KernelDensity\n",
    "from sklearn.model_selection import train_test_split\n",
    "from sklearn.linear_model import LogisticRegression\n",
    "from sklearn.metrics import classification_report, confusion_matrix, accuracy_score\n",
    "\n",
    "import numpy as np\n",
    "import pandas as pd"
   ]
  },
  {
   "cell_type": "code",
   "execution_count": null,
   "id": "a3b78b4b",
   "metadata": {},
   "outputs": [
    {
     "name": "stderr",
     "output_type": "stream",
     "text": [
      "C:\\Users\\Ashish.Pandit\\AppData\\Local\\Temp\\ipykernel_33348\\91761609.py:15: DtypeWarning: Columns (18,19) have mixed types. Specify dtype option on import or set low_memory=False.\n",
      "  azdias = pd.read_csv(data_path+'//Udacity_AZDIAS_052018.csv', sep=';')\n",
      "C:\\Users\\Ashish.Pandit\\AppData\\Local\\Temp\\ipykernel_33348\\91761609.py:16: DtypeWarning: Columns (18,19) have mixed types. Specify dtype option on import or set low_memory=False.\n",
      "  customers = pd.read_csv(data_path+'//Udacity_CUSTOMERS_052018.csv', sep=';')\n",
      "C:\\Users\\Ashish.Pandit\\AppData\\Local\\Temp\\ipykernel_33348\\91761609.py:16: DtypeWarning: Columns (18,19) have mixed types. Specify dtype option on import or set low_memory=False.\n",
      "  customers = pd.read_csv(data_path+'//Udacity_CUSTOMERS_052018.csv', sep=';')\n"
     ]
    }
   ],
   "source": [
    "\n",
    "\n",
    "\n",
    "\n",
    "data_path=\"\" #add your data path here\n",
    "azdias = pd.read_csv(data_path+'//Udacity_AZDIAS_052018.csv', sep=';')\n",
    "customers = pd.read_csv(data_path+'//Udacity_CUSTOMERS_052018.csv', sep=';')\n",
    " "
   ]
  },
  {
   "cell_type": "code",
   "execution_count": 29,
   "id": "8007a656",
   "metadata": {},
   "outputs": [],
   "source": [
    "\n",
    "def get_date_df(df):\n",
    "    # Convert to datetime, coerce errors to NaT\n",
    "    df['date_column'] = pd.to_datetime(df['EINGEFUEGT_AM'], errors='coerce')\n",
    "\n",
    "    # Create new DataFrame with extracted components\n",
    "    new_df = pd.DataFrame({\n",
    "        'year': df['date_column'].dt.year,\n",
    "        'month': df['date_column'].dt.month,\n",
    "        'day': df['date_column'].dt.day,\n",
    "        'hour': df['date_column'].dt.hour,\n",
    "        'minute': df['date_column'].dt.minute,\n",
    "        'second': df['date_column'].dt.second,\n",
    "    })\n",
    "    new_df = new_df.fillna(0).astype(int)\n",
    "    return new_df\n",
    "def drop_high_missing_cols(df, threshold=0.9):\n",
    "    missing_percent = df.isna().mean()\n",
    "    cols_to_drop = missing_percent[missing_percent > threshold].index\n",
    "    df_cleaned = df.drop(columns=cols_to_drop)\n",
    "    print('columns_drop ',cols_to_drop)\n",
    "    return df_cleaned\n",
    "def pp_date_col(customers):\n",
    "    date_df=get_date_df(customers)\n",
    "    print(date_df.describe().to_string())\n",
    "    date_df = date_df.drop(columns=['hour', 'minute', 'second'])\n",
    "    cust_post_date=pd.concat([customers,date_df],axis=1)\n",
    "    cust_post_date= cust_post_date.drop(columns=['EINGEFUEGT_AM','date_column'],axis=1)\n",
    "    return cust_post_date\n",
    "\n",
    "\n",
    "def prep_data(customers,replace_flag):\n",
    "    cust_date_done=pp_date_col(customers)\n",
    "    assert len(cust_date_done['CAMEO_DEUG_2015'][cust_date_done['CAMEO_DEUG_2015']==0])==0\n",
    "    assert len(cust_date_done['CAMEO_INTL_2015'][cust_date_done['CAMEO_INTL_2015']==0])==0\n",
    "    cust_date_done['CAMEO_DEUG_2015'] = pd.to_numeric(cust_date_done['CAMEO_DEUG_2015'], errors='coerce').fillna(0).astype(int)\n",
    "    cust_date_done['CAMEO_INTL_2015'] = pd.to_numeric(cust_date_done['CAMEO_INTL_2015'], errors='coerce').fillna(0).astype(int)\n",
    "    col_list=get_col_with_more_than_2_dtypes(cust_date_done)\n",
    "    categorical_cols=col_list\n",
    "    #print(categorical_cols)\n",
    "    #print(\"America\")\n",
    "    cust_cat_done=handle_cat_cols(cust_date_done,categorical_cols)\n",
    "    if replace_flag:\n",
    "        cust_miss_replc_done=replace_missing_values(cust_cat_done)\n",
    "    else:\n",
    "        cust_miss_replc_done=cust_cat_done\n",
    "    df=cust_miss_replc_done\n",
    "    single_value_cols = [col for col in df.columns if df[col].dropna().nunique() == 1]\n",
    "    cust_single_drop_done=df.drop(columns=single_value_cols)\n",
    "    X_pre_scale=cust_single_drop_done.drop(columns=['LNR'])\n",
    "    return X_pre_scale\n",
    "\n",
    "def get_col_with_more_than_2_dtypes(customers):\n",
    "    col_list=[]\n",
    "    for col in customers.columns:\n",
    "        data_types=customers[col].apply(type).value_counts()\n",
    "        data_types_count=len(data_types)\n",
    "        n_unique=customers[col].nunique()\n",
    "        if data_types_count!=1:\n",
    "            print()\n",
    "            print(data_types_count,n_unique)\n",
    "            print(data_types)\n",
    "            print(customers[col].unique())\n",
    "            col_list.append(col)\n",
    "    return col_list\n",
    "\n",
    "\n",
    "def view_100_plots(df):\n",
    "    # Assuming df is your DataFrame\n",
    "    fig, axes = plt.subplots(10, 10, figsize=(20, 20))\n",
    "    fig.tight_layout(pad=3.0)\n",
    "\n",
    "    for i, ax in enumerate(axes.flat):\n",
    "        if i < 100:\n",
    "            col = df.columns[i]\n",
    "            try:\n",
    "                ax.hist(df[col].dropna(), bins=20, color='skyblue', edgecolor='black')\n",
    "                ax.set_title(col)\n",
    "                ax.set_xlabel('')\n",
    "                ax.set_ylabel('')\n",
    "            except TypeError:\n",
    "                print(col)\n",
    "            \n",
    "        else:\n",
    "            ax.axis('off')  # Hide unused subplots if any\n",
    "\n",
    "    plt.savefig(data_path+'column_distributions.png', dpi=300, bbox_inches='tight')\n",
    "    plt.show()\n",
    "    \n",
    "def replace_missing_values(df):\n",
    "    '''\n",
    "    # Loop through each column\n",
    "    for col in df.columns:\n",
    "        # Create a missing indicator column\n",
    "        df[f'{col}_miss'] = df[col].isna().astype(int)\n",
    "        # Replace missing values with 0\n",
    "        df[col] = df[col].fillna(0)\n",
    "        \n",
    "    # Create missing value indicator columns efficiently\n",
    "    '''\n",
    "    missing_indicators = {\n",
    "    f'{col}_miss': df[col].isna().astype(int)\n",
    "    for col in df.columns\n",
    "    }\n",
    "    df = df.fillna(0)\n",
    "    # Concatenate all new columns at once\n",
    "    df = pd.concat([df, pd.DataFrame(missing_indicators)], axis=1)\n",
    "    # Optional: defragment the DataFrame\n",
    "    df = df.copy()\n",
    "    return df\n",
    "\n",
    "def handle_cat_cols(df,categorical_cols):\n",
    "    # Step 1: Fill missing values with a placeholder\n",
    "    df[categorical_cols] = df[categorical_cols].fillna('missing')\n",
    "    # Step 2: Convert categorical columns to dummy/indicator variables\n",
    "    df_encoded = pd.get_dummies(df[categorical_cols], prefix=categorical_cols)\n",
    "    # Step 3: Drop original categorical columns\n",
    "    df_final = pd.concat([df.drop(columns=categorical_cols), df_encoded], axis=1)\n",
    "    return df_final\n",
    "\n",
    "\n",
    "def compare_histogram(customers,azdias,col_name,n_bins):\n",
    "    # Compute histograms\n",
    "    customers_hist, bins = np.histogram(customers[col_name].dropna(), bins=n_bins, density=True)\n",
    "    azdias_hist, _ = np.histogram(azdias[col_name], bins=bins, density=True)\n",
    "    \n",
    "    # Compute bin centers\n",
    "    bin_centers = 0.5 * (bins[1:] + bins[:-1])\n",
    "    width = (bins[1] - bins[0]) / 3  # narrow bars for side-by-side\n",
    "\n",
    "    # Plotting\n",
    "    plt.figure(figsize=(8, 5))\n",
    "    plt.bar(bin_centers - width/2, customers_hist * 100, width=width, label='Customers', color='skyblue', edgecolor='black')\n",
    "    plt.bar(bin_centers + width/2, azdias_hist * 100, width=width, label='Azdias', color='salmon', edgecolor='black')\n",
    "    plt.title(f'Percentage Distribution of {col_name}')\n",
    "    plt.xlabel(col_name)\n",
    "    plt.ylabel('Percentage')\n",
    "    plt.legend()\n",
    "    plt.grid(True)\n",
    "    plt.show()\n",
    "    \n",
    "def view_column(df,col_name,n_bins):\n",
    "    # Plotting the distribution of the 'age' column\n",
    "    plt.figure(figsize=(8, 5))\n",
    "    plt.hist(df[col_name], bins=n_bins, color='skyblue', edgecolor='black')\n",
    "    plt.title('Distribution of '+ col_name)\n",
    "    plt.xlabel(col_name)\n",
    "    plt.ylabel('Frequency')\n",
    "    plt.grid(True)\n",
    "    plt.show()\n",
    "    \n",
    "def view_clus_output(X,labels,size):\n",
    "    random_list=np.random.choice(X.shape[0], size=size, replace=False)\n",
    "    X_chosen=X[random_list]\n",
    "    labels_chosen=labels[random_list]\n",
    "    plt.scatter(X_chosen[:, 0], X_chosen[:, 1],c=labels_chosen, cmap='viridis', alpha=0.6)\n",
    "    plt.title('Clustering Output for '+str(size))\n",
    "    plt.show()\n",
    "\n",
    "\n",
    "def get_col_list_with_missing_data(df, threshold):\n",
    "    # Calculate missing percentage\n",
    "    missing_percent = df.isna().mean() * 100\n",
    "    # Plot histogram\n",
    "    counts, bin_edges, patches = plt.hist(missing_percent, bins=10)\n",
    "    plt.xlabel('Missing Percentage')\n",
    "    plt.ylabel('Number of Columns')\n",
    "    plt.title('Histogram of Missing Data Percentage')\n",
    "    plt.show()\n",
    "    # Print top 10 columns with highest missing percentage\n",
    "    print(\"Top 10 columns with highest missing data:\")\n",
    "    print(missing_percent.sort_values(ascending=False).head(10))\n",
    "    # Get list of columns with missing percentage above threshold\n",
    "    col_list_with_missing_data = missing_percent[missing_percent > threshold*100].index.tolist()\n",
    "    return col_list_with_missing_data"
   ]
  },
  {
   "cell_type": "markdown",
   "id": "9635bdfc",
   "metadata": {},
   "source": [
    "EDA"
   ]
  },
  {
   "cell_type": "code",
   "execution_count": 30,
   "id": "7afa70ba",
   "metadata": {},
   "outputs": [
    {
     "data": {
      "image/png": "[encoded data removed]",
      "text/plain": [
       "<Figure size 640x480 with 1 Axes>"
      ]
     },
     "metadata": {},
     "output_type": "display_data"
    },
    {
     "name": "stdout",
     "output_type": "stream",
     "text": [
      "Top 10 columns with highest missing data:\n",
      "ALTER_KIND4     99.876860\n",
      "ALTER_KIND3     99.334732\n",
      "ALTER_KIND2     97.338927\n",
      "ALTER_KIND1     93.860748\n",
      "KK_KUNDENTYP    58.406382\n",
      "EXTSEL992       44.498883\n",
      "KBA05_KW3       29.209192\n",
      "MOBI_REGIO      29.209192\n",
      "KBA05_ANTG4     29.209192\n",
      "KBA05_ANTG3     29.209192\n",
      "dtype: float64\n"
     ]
    }
   ],
   "source": [
    "col_list_with_missing_data=get_col_list_with_missing_data(customers,0.5)"
   ]
  },
  {
   "cell_type": "code",
   "execution_count": 31,
   "id": "0e2a21c8",
   "metadata": {},
   "outputs": [
    {
     "name": "stdout",
     "output_type": "stream",
     "text": [
      "columns_drop  Index(['ALTER_KIND1', 'ALTER_KIND2', 'ALTER_KIND3', 'ALTER_KIND4'], dtype='object')\n"
     ]
    }
   ],
   "source": [
    "customers=drop_high_missing_cols(customers, threshold=0.9)"
   ]
  },
  {
   "cell_type": "code",
   "execution_count": 32,
   "id": "c86ba590",
   "metadata": {},
   "outputs": [
    {
     "name": "stdout",
     "output_type": "stream",
     "text": [
      "17         0.000000\n",
      "16         0.000000\n",
      "15         0.000000\n",
      "14         0.000000\n",
      "11         0.000000\n",
      "            ...    \n",
      "54272     68.219178\n",
      "176782    68.767123\n",
      "89983     69.863014\n",
      "84107     69.863014\n",
      "74012     69.863014\n",
      "Length: 191652, dtype: float64\n",
      "[70.4, 0.1, 2.6, 0.0, 0.2, 0.0, 0.0, 0.4, 1.6, 24.3]\n"
     ]
    },
    {
     "data": {
      "image/png": "[encoded data removed]",
      "text/plain": [
       "<Figure size 640x480 with 1 Axes>"
      ]
     },
     "metadata": {},
     "output_type": "display_data"
    }
   ],
   "source": [
    "missing_percent_per_row = customers.isna().mean(axis=1) * 100\n",
    "print(missing_percent_per_row.sort_values())\n",
    "counts, bin_edges, patches=plt.hist(missing_percent_per_row,bins=10)\n",
    "print([int(i/sum(counts)*1000)/10 for i in counts])\n",
    "plt.xlabel('Missing Percentage per Row')\n",
    "plt.ylabel('Number of Rows')\n",
    "plt.title('Histogram of Missing Data Percentage per Row')\n",
    "plt.show()\n",
    "\n"
   ]
  },
  {
   "cell_type": "code",
   "execution_count": 57,
   "id": "3fed36e6",
   "metadata": {},
   "outputs": [
    {
     "name": "stdout",
     "output_type": "stream",
     "text": [
      "\n",
      "2 45\n",
      "CAMEO_DEU_2015\n",
      "<class 'str'>      141224\n",
      "<class 'float'>     50428\n",
      "Name: count, dtype: int64\n",
      "['1A' nan '5D' '4C' '7B' '3B' '1D' '9E' '2D' '4A' '6B' '9D' '8B' '5C' '9C'\n",
      " '4E' '6C' '8C' '8A' '5B' '9B' '3D' '2A' '3C' '5F' '7A' '1E' '2C' '7C'\n",
      " '5A' '2B' '6D' '7E' '5E' '6E' '3A' '9A' '4B' '1C' '1B' '6A' '8D' '7D'\n",
      " '6F' '4D' 'XX']\n",
      "\n",
      "2 19\n",
      "CAMEO_DEUG_2015\n",
      "<class 'str'>      105198\n",
      "<class 'float'>     86454\n",
      "Name: count, dtype: int64\n",
      "[1.0 nan 5.0 4.0 7.0 3.0 9.0 2.0 6.0 8.0 '6' '3' '8' '9' '2' '4' '1' '7'\n",
      " '5' 'X']\n",
      "\n",
      "2 43\n",
      "CAMEO_INTL_2015\n",
      "<class 'str'>      105198\n",
      "<class 'float'>     86454\n",
      "Name: count, dtype: int64\n",
      "[13.0 nan 34.0 24.0 41.0 23.0 15.0 55.0 14.0 22.0 43.0 51.0 33.0 25.0 44.0\n",
      " 54.0 32.0 12.0 35.0 31.0 45.0 52.0 '45' '25' '55' '51' '14' '54' '43'\n",
      " '22' '15' '24' '35' '23' '12' '44' '41' '52' '31' '13' '34' '32' '33'\n",
      " 'XX']\n",
      "\n",
      "2 35\n",
      "D19_LETZTER_KAUF_BRANCHE\n",
      "<class 'str'>      143955\n",
      "<class 'float'>     47697\n",
      "Name: count, dtype: int64\n",
      "['D19_UNBEKANNT' 'D19_BANKEN_GROSS' 'D19_NAHRUNGSERGAENZUNG' 'D19_SCHUHE'\n",
      " 'D19_BUCH_CD' 'D19_DROGERIEARTIKEL' 'D19_SONSTIGE' 'D19_TECHNIK'\n",
      " 'D19_VERSICHERUNGEN' 'D19_TELKO_MOBILE' 'D19_VOLLSORTIMENT' nan\n",
      " 'D19_HAUS_DEKO' 'D19_ENERGIE' 'D19_REISEN' 'D19_BANKEN_LOKAL'\n",
      " 'D19_VERSAND_REST' 'D19_BEKLEIDUNG_REST' 'D19_FREIZEIT'\n",
      " 'D19_BEKLEIDUNG_GEH' 'D19_TELKO_REST' 'D19_SAMMELARTIKEL'\n",
      " 'D19_BANKEN_DIREKT' 'D19_KINDERARTIKEL' 'D19_BANKEN_REST'\n",
      " 'D19_LEBENSMITTEL' 'D19_GARTEN' 'D19_HANDWERK' 'D19_RATGEBER'\n",
      " 'D19_DIGIT_SERV' 'D19_BIO_OEKO' 'D19_BILDUNG' 'D19_WEIN_FEINKOST'\n",
      " 'D19_TIERARTIKEL' 'D19_LOTTO' 'D19_KOSMETIK']\n",
      "\n",
      "2 3034\n",
      "EINGEFUEGT_AM\n",
      "<class 'str'>      141725\n",
      "<class 'float'>     49927\n",
      "Name: count, dtype: int64\n",
      "['1992-02-12 00:00:00' nan '1992-02-10 00:00:00' ... '2008-04-25 00:00:00'\n",
      " '2005-03-30 00:00:00' '2008-07-14 00:00:00']\n",
      "\n",
      "2 2\n",
      "OST_WEST_KZ\n",
      "<class 'str'>      141725\n",
      "<class 'float'>     49927\n",
      "Name: count, dtype: int64\n",
      "['W' nan 'O']\n",
      "['CAMEO_DEU_2015', 'CAMEO_DEUG_2015', 'CAMEO_INTL_2015', 'D19_LETZTER_KAUF_BRANCHE', 'EINGEFUEGT_AM', 'OST_WEST_KZ']\n"
     ]
    }
   ],
   "source": [
    "col_with_more_than_2_dt=get_col_with_more_than_2_dtypes(customers)\n",
    "print(col_with_more_than_2_dt)"
   ]
  },
  {
   "cell_type": "markdown",
   "id": "a6909c68",
   "metadata": {},
   "source": [
    "There are columns with mixed datatypes like float and str. Sometimes nan is source of the string datatype, other times its string like '3' in place of 3 and so on."
   ]
  },
  {
   "cell_type": "code",
   "execution_count": 51,
   "id": "f9ba5aab",
   "metadata": {},
   "outputs": [
    {
     "name": "stdout",
     "output_type": "stream",
     "text": [
      "LNR                           191652\n",
      "EINGEFUEGT_AM                   3034\n",
      "KBA13_ANZAHL_PKW                1250\n",
      "ANZ_HAUSHALTE_AKTIV              216\n",
      "ANZ_STATISTISCHE_HAUSHALTE       214\n",
      "GEBURTSJAHR                      113\n",
      "EXTSEL992                         56\n",
      "VERDICHTUNGSRAUM                  46\n",
      "CAMEO_DEU_2015                    45\n",
      "CAMEO_INTL_2015                   43\n",
      "dtype: int64\n"
     ]
    },
    {
     "data": {
      "image/png": "[encoded data removed]",
      "text/plain": [
       "<Figure size 640x480 with 1 Axes>"
      ]
     },
     "metadata": {},
     "output_type": "display_data"
    }
   ],
   "source": [
    "unique_counts = customers.nunique().sort_values(ascending=False)\n",
    "print(unique_counts[:10])\n",
    "plt.hist(unique_counts[5:], bins=30)\n",
    "plt.xlabel('Number of Unique Values')\n",
    "plt.ylabel('Number of Columns')\n",
    "plt.title('Histogram of Unique Values per Column')\n",
    "plt.show()"
   ]
  },
  {
   "cell_type": "markdown",
   "id": "6c87e4e8",
   "metadata": {},
   "source": [
    "### Feature Uniqueness Analysis\n",
    "\n",
    "To better understand the diversity and granularity of the dataset, we analyzed the number of unique values across features in the customer data. The column `LNR` had the highest uniqueness with 191,652 distinct values, indicating it serves as a unique identifier. Other features such as `EINGEFUEGT_AM` (date added), `KBA13_ANZAHL_PKW` (number of cars), and `GEBURTSJAHR` (birth year) also showed high variability, with 3034, 1250, and 113 unique values respectively. A histogram of the remaining features revealed that most columns have a moderate number of unique values, suggesting a mix of categorical and continuous variables. \n",
    "\n",
    "This diversity is crucial for effective segmentation and predictive modeling, as it provides rich information for distinguishing customer profiles.\n",
    "\n",
    "Its difficult to if these columns are numeric or ordinal. A column by column analysis will be required. But that would take too long.\n",
    "\n",
    "IMPORTANT OBSERVATION: Majority of columns have few than 18 unique values as seen in the above plot."
   ]
  },
  {
   "cell_type": "code",
   "execution_count": 34,
   "id": "5b07c3a4",
   "metadata": {},
   "outputs": [
    {
     "data": {
      "image/png": "[encoded data removed]",
      "text/plain": [
       "<Figure size 800x500 with 1 Axes>"
      ]
     },
     "metadata": {},
     "output_type": "display_data"
    },
    {
     "data": {
      "image/png": "[encoded data removed]",
      "text/plain": [
       "<Figure size 800x500 with 1 Axes>"
      ]
     },
     "metadata": {},
     "output_type": "display_data"
    }
   ],
   "source": [
    "col_name='KBA13_ANZAHL_PKW'\n",
    "n_bins=20\n",
    "view_column(customers,col_name,n_bins)\n",
    "compare_histogram(customers,azdias,col_name,n_bins)"
   ]
  },
  {
   "cell_type": "markdown",
   "id": "4f3eaf46",
   "metadata": {},
   "source": [
    "We see that the distribution looks to be bimodal which is strange to be honest. Income should be log normally distributed. It is also skewed to the left, which is sad."
   ]
  },
  {
   "cell_type": "code",
   "execution_count": 53,
   "id": "314755c2",
   "metadata": {},
   "outputs": [
    {
     "data": {
      "image/png": "[encoded data removed]",
      "text/plain": [
       "<Figure size 800x500 with 1 Axes>"
      ]
     },
     "metadata": {},
     "output_type": "display_data"
    }
   ],
   "source": [
    "col_name='ANREDE_KZ'\n",
    "n_bins=20\n",
    "#view_column(customers,col_name,n_bins)\n",
    "compare_histogram(customers,azdias,col_name,n_bins)"
   ]
  },
  {
   "cell_type": "markdown",
   "id": "12ea8a8c",
   "metadata": {},
   "source": [
    "Above is an interesting plot for two (three) reasons. It is a plot of the gender column.\n",
    "1. We see that the data distribution is inverted, which means, the dominant gender in the socity is not the dominant gender in the customer base.\n",
    "2. How come no one filled the -1, 0 option which is unknown or undeclared? Such observations raise question on the authenticity of the data.\n",
    "3. The gender ratio is wayyy off. Or better let us calculate it for the population and cross check with other sources. This is help us validate the data."
   ]
  },
  {
   "cell_type": "code",
   "execution_count": 56,
   "id": "53f06f49",
   "metadata": {},
   "outputs": [
    {
     "name": "stdout",
     "output_type": "stream",
     "text": [
      "1.6565202927478377\n",
      "0.6036750677778893\n",
      "1.0\n"
     ]
    }
   ],
   "source": [
    "male_count=len(customers[customers['ANREDE_KZ']==1])\n",
    "female_count=len(customers[customers['ANREDE_KZ']==2])\n",
    "gender_ratio=male_count/female_count\n",
    "print(gender_ratio)\n",
    "print(1/gender_ratio)\n",
    "percent_of_data_present=len(customers[customers['ANREDE_KZ'].isin([1,2])])/len(customers)\n",
    "print(percent_of_data_present)"
   ]
  },
  {
   "cell_type": "markdown",
   "id": "07673189",
   "metadata": {},
   "source": [
    "https://www.globaldata.com/data-insights/macroeconomic/the-gender-ratio-of-germany-325556/\n",
    "\n",
    "The data looks quite sus. 1.6 or 0.6 either way the data collection process needs to unbias itself. in the link provided we see the ratio has been more realistic.\n",
    "\n",
    "\n",
    "The recurpussions are very serious leading to biased models and under effective marketing campaign!!!!"
   ]
  },
  {
   "cell_type": "markdown",
   "id": "388b8427",
   "metadata": {},
   "source": [
    "PART A: Unsupervised Learning"
   ]
  },
  {
   "cell_type": "markdown",
   "id": "0ed07c7e",
   "metadata": {},
   "source": [
    "## Data Preprocessing\n",
    "\n",
    "Given the high dimensionality and complexity of the datasets, a structured preprocessing pipeline was essential to prepare the data for analysis and modeling. The following steps were taken:\n",
    "\n",
    "### 1. **Date Feature Engineering**\n",
    "- **Transformation**: The `EINGEFUEGT_AM` column (date a customer was added) was converted to datetime format.\n",
    "- **Feature Extraction**: Year, month, and day components were extracted.\n",
    "- **Purpose**: Captures temporal patterns in customer acquisition.\n",
    "- **Note**: Hour, minute, and second were dropped due to limited analytical value.\n",
    "\n",
    "### 2. **Dropping High-Missing Columns**\n",
    "- **Criteria**: Columns with more than 90% missing values were removed.\n",
    "- **Purpose**: Reduces noise and improves model performance without sacrificing meaningful information.\n",
    "\n",
    "### 3. **Handling Mixed Data Types**\n",
    "- **Issue**: Some columns contained inconsistent types (e.g., strings mixed with numbers).\n",
    "- **Solution**: Treated as categorical variables and filled missing values with a placeholder (`'missing'`).\n",
    "- **Encoding**: One-hot encoding was applied to convert these into numerical format.\n",
    "\n",
    "### 4. **Replacing Missing Values**\n",
    "- **Numerical Columns**: Missing values were replaced with zeros.\n",
    "- **Indicator Columns**: Binary flags were created to indicate missing entries.\n",
    "- **Purpose**: Preserves information about data absence for modeling.\n",
    "\n",
    "### 5. **Removing Low-Variance Features**\n",
    "- **Criteria**: Columns with only a single unique value across all rows were dropped.\n",
    "- **Purpose**: Eliminates features that do not contribute to predictive modeling.\n",
    "\n",
    "### 6. **Final Preparation**\n",
    "- **Identifiers**: Columns like `LNR` were removed to prevent data leakage.\n",
    "- **Scaling**: Features were standardized using `StandardScaler` for consistent input to models.\n",
    "\n",
    "These preprocessing steps ensured that the data was clean, consistent, and ready for both unsupervised and supervised learning tasks, forming a robust foundation for downstream analysis.\n"
   ]
  },
  {
   "cell_type": "code",
   "execution_count": 35,
   "id": "7ff3b908",
   "metadata": {},
   "outputs": [],
   "source": [
    "\n",
    "def gen_models(prepped_df,n_comp,bandwidth):\n",
    "    cust_excl_cols=['PRODUCT_GROUP', 'CUSTOMER_GROUP','ONLINE_PURCHASE']\n",
    "    try:\n",
    "        X=prepped_df.drop(columns=cust_excl_cols)\n",
    "    except KeyError:\n",
    "        print(\"Not a Customers DF. General Population\")\n",
    "        X=prepped_df\n",
    "    scaler = StandardScaler()\n",
    "    X_scaled = scaler.fit_transform(X)\n",
    "    print(X_scaled.shape)\n",
    "    pca = PCA(n_components=n_comp)\n",
    "    X_pca_output = pca.fit_transform(X_scaled)\n",
    "    kde = KernelDensity(kernel='gaussian', bandwidth=bandwidth)\n",
    "    kde.fit(X_pca_output)\n",
    "    return scaler,pca,X_pca_output,kde"
   ]
  },
  {
   "cell_type": "code",
   "execution_count": 36,
   "id": "89fe832a",
   "metadata": {},
   "outputs": [
    {
     "name": "stdout",
     "output_type": "stream",
     "text": [
      "                year          month            day      hour    minute    second\n",
      "count  191652.000000  191652.000000  191652.000000  191652.0  191652.0  191652.0\n",
      "mean     1474.206833       2.271169       8.840184       0.0       0.0       0.0\n",
      "std       874.998182       2.601852       6.564518       0.0       0.0       0.0\n",
      "min         0.000000       0.000000       0.000000       0.0       0.0       0.0\n",
      "25%         0.000000       0.000000       0.000000       0.0       0.0       0.0\n",
      "50%      1992.000000       2.000000      10.000000       0.0       0.0       0.0\n",
      "75%      1992.000000       2.000000      12.000000       0.0       0.0       0.0\n",
      "max      2016.000000      12.000000      31.000000       0.0       0.0       0.0\n",
      "\n",
      "2 45\n",
      "CAMEO_DEU_2015\n",
      "<class 'str'>      141224\n",
      "<class 'float'>     50428\n",
      "Name: count, dtype: int64\n",
      "['1A' nan '5D' '4C' '7B' '3B' '1D' '9E' '2D' '4A' '6B' '9D' '8B' '5C' '9C'\n",
      " '4E' '6C' '8C' '8A' '5B' '9B' '3D' '2A' '3C' '5F' '7A' '1E' '2C' '7C'\n",
      " '5A' '2B' '6D' '7E' '5E' '6E' '3A' '9A' '4B' '1C' '1B' '6A' '8D' '7D'\n",
      " '6F' '4D' 'XX']\n",
      "\n",
      "2 45\n",
      "CAMEO_DEU_2015\n",
      "<class 'str'>      141224\n",
      "<class 'float'>     50428\n",
      "Name: count, dtype: int64\n",
      "['1A' nan '5D' '4C' '7B' '3B' '1D' '9E' '2D' '4A' '6B' '9D' '8B' '5C' '9C'\n",
      " '4E' '6C' '8C' '8A' '5B' '9B' '3D' '2A' '3C' '5F' '7A' '1E' '2C' '7C'\n",
      " '5A' '2B' '6D' '7E' '5E' '6E' '3A' '9A' '4B' '1C' '1B' '6A' '8D' '7D'\n",
      " '6F' '4D' 'XX']\n",
      "\n",
      "2 35\n",
      "D19_LETZTER_KAUF_BRANCHE\n",
      "<class 'str'>      143955\n",
      "<class 'float'>     47697\n",
      "Name: count, dtype: int64\n",
      "['D19_UNBEKANNT' 'D19_BANKEN_GROSS' 'D19_NAHRUNGSERGAENZUNG' 'D19_SCHUHE'\n",
      " 'D19_BUCH_CD' 'D19_DROGERIEARTIKEL' 'D19_SONSTIGE' 'D19_TECHNIK'\n",
      " 'D19_VERSICHERUNGEN' 'D19_TELKO_MOBILE' 'D19_VOLLSORTIMENT' nan\n",
      " 'D19_HAUS_DEKO' 'D19_ENERGIE' 'D19_REISEN' 'D19_BANKEN_LOKAL'\n",
      " 'D19_VERSAND_REST' 'D19_BEKLEIDUNG_REST' 'D19_FREIZEIT'\n",
      " 'D19_BEKLEIDUNG_GEH' 'D19_TELKO_REST' 'D19_SAMMELARTIKEL'\n",
      " 'D19_BANKEN_DIREKT' 'D19_KINDERARTIKEL' 'D19_BANKEN_REST'\n",
      " 'D19_LEBENSMITTEL' 'D19_GARTEN' 'D19_HANDWERK' 'D19_RATGEBER'\n",
      " 'D19_DIGIT_SERV' 'D19_BIO_OEKO' 'D19_BILDUNG' 'D19_WEIN_FEINKOST'\n",
      " 'D19_TIERARTIKEL' 'D19_LOTTO' 'D19_KOSMETIK']\n",
      "\n",
      "2 35\n",
      "D19_LETZTER_KAUF_BRANCHE\n",
      "<class 'str'>      143955\n",
      "<class 'float'>     47697\n",
      "Name: count, dtype: int64\n",
      "['D19_UNBEKANNT' 'D19_BANKEN_GROSS' 'D19_NAHRUNGSERGAENZUNG' 'D19_SCHUHE'\n",
      " 'D19_BUCH_CD' 'D19_DROGERIEARTIKEL' 'D19_SONSTIGE' 'D19_TECHNIK'\n",
      " 'D19_VERSICHERUNGEN' 'D19_TELKO_MOBILE' 'D19_VOLLSORTIMENT' nan\n",
      " 'D19_HAUS_DEKO' 'D19_ENERGIE' 'D19_REISEN' 'D19_BANKEN_LOKAL'\n",
      " 'D19_VERSAND_REST' 'D19_BEKLEIDUNG_REST' 'D19_FREIZEIT'\n",
      " 'D19_BEKLEIDUNG_GEH' 'D19_TELKO_REST' 'D19_SAMMELARTIKEL'\n",
      " 'D19_BANKEN_DIREKT' 'D19_KINDERARTIKEL' 'D19_BANKEN_REST'\n",
      " 'D19_LEBENSMITTEL' 'D19_GARTEN' 'D19_HANDWERK' 'D19_RATGEBER'\n",
      " 'D19_DIGIT_SERV' 'D19_BIO_OEKO' 'D19_BILDUNG' 'D19_WEIN_FEINKOST'\n",
      " 'D19_TIERARTIKEL' 'D19_LOTTO' 'D19_KOSMETIK']\n",
      "\n",
      "2 2\n",
      "OST_WEST_KZ\n",
      "<class 'str'>      141725\n",
      "<class 'float'>     49927\n",
      "Name: count, dtype: int64\n",
      "['W' nan 'O']\n",
      "\n",
      "2 2\n",
      "OST_WEST_KZ\n",
      "<class 'str'>      141725\n",
      "<class 'float'>     49927\n",
      "Name: count, dtype: int64\n",
      "['W' nan 'O']\n",
      "(191652, 708)\n",
      "(191652, 708)\n"
     ]
    },
    {
     "name": "stderr",
     "output_type": "stream",
     "text": [
      "C:\\Users\\Ashish.Pandit\\AppData\\Local\\Temp\\ipykernel_33348\\2531659159.py:6: UserWarning: No data for colormapping provided via 'c'. Parameters 'cmap' will be ignored\n",
      "  plt.scatter(X_pca_output[:, 0], X_pca_output[:, 1], cmap='viridis', alpha=0.6)\n"
     ]
    },
    {
     "data": {
      "text/plain": [
       "<matplotlib.collections.PathCollection at 0x1b8161ecc50>"
      ]
     },
     "execution_count": 36,
     "metadata": {},
     "output_type": "execute_result"
    },
    {
     "data": {
      "image/png": "[encoded data removed]",
      "text/plain": [
       "<Figure size 640x480 with 1 Axes>"
      ]
     },
     "metadata": {},
     "output_type": "display_data"
    }
   ],
   "source": [
    "\n",
    "bandwidth=0.1\n",
    "replace_flag=True\n",
    "prepped_df=prep_data(customers,replace_flag)\n",
    "n_comp=3\n",
    "scaler,pca,X_pca_output,kde=gen_models(prepped_df,n_comp,bandwidth)\n",
    "plt.scatter(X_pca_output[:, 0], X_pca_output[:, 1], cmap='viridis', alpha=0.6)\n"
   ]
  },
  {
   "cell_type": "code",
   "execution_count": 37,
   "id": "b84fd6c9",
   "metadata": {},
   "outputs": [],
   "source": [
    "def get_kde_probability(unseen_df, scaler, pca, kde):\n",
    "    # Drop the same columns as in training\n",
    "    cust_excl_cols = ['PRODUCT_GROUP', 'CUSTOMER_GROUP', 'ONLINE_PURCHASE']\n",
    "    try:\n",
    "        X_unseen = unseen_df.drop(columns=cust_excl_cols)\n",
    "    except KeyError:\n",
    "        X_unseen = unseen_df\n",
    "\n",
    "    # Apply the same scaling and PCA transformation\n",
    "    X_unseen_scaled = scaler.transform(X_unseen)\n",
    "    X_unseen_pca = pca.transform(X_unseen_scaled)\n",
    "\n",
    "    # Get log-probability density estimates\n",
    "    log_probs = kde.score_samples(X_unseen_pca)\n",
    "\n",
    "    # Convert to actual probability densities\n",
    "    probs = np.exp(log_probs)\n",
    "    return probs"
   ]
  },
  {
   "cell_type": "code",
   "execution_count": 38,
   "id": "0b2ebc27",
   "metadata": {},
   "outputs": [
    {
     "name": "stdout",
     "output_type": "stream",
     "text": [
      "                year          month            day      hour    minute    second\n",
      "count  891221.000000  891221.000000  891221.000000  891221.0  891221.0  891221.0\n",
      "mean     1785.385253       2.824500      10.631601       0.0       0.0       0.0\n",
      "std       609.967022       2.686521       5.863459       0.0       0.0       0.0\n",
      "min         0.000000       0.000000       0.000000       0.0       0.0       0.0\n",
      "25%      1992.000000       2.000000      10.000000       0.0       0.0       0.0\n",
      "50%      1992.000000       2.000000      10.000000       0.0       0.0       0.0\n",
      "75%      1992.000000       2.000000      12.000000       0.0       0.0       0.0\n",
      "max      2016.000000      12.000000      31.000000       0.0       0.0       0.0\n",
      "\n",
      "2 45\n",
      "CAMEO_DEU_2015\n",
      "<class 'str'>      792242\n",
      "<class 'float'>     98979\n",
      "Name: count, dtype: int64\n",
      "[nan '8A' '4C' '2A' '6B' '8C' '4A' '2D' '1A' '1E' '9D' '5C' '8B' '7A' '5D'\n",
      " '9E' '9B' '1B' '3D' '4E' '4B' '3C' '5A' '7B' '9A' '6D' '6E' '2C' '7C'\n",
      " '9C' '7D' '5E' '1D' '8D' '6C' '6A' '5B' '4D' '3A' '2B' '7E' '3B' '6F'\n",
      " '5F' '1C' 'XX']\n",
      "\n",
      "2 45\n",
      "CAMEO_DEU_2015\n",
      "<class 'str'>      792242\n",
      "<class 'float'>     98979\n",
      "Name: count, dtype: int64\n",
      "[nan '8A' '4C' '2A' '6B' '8C' '4A' '2D' '1A' '1E' '9D' '5C' '8B' '7A' '5D'\n",
      " '9E' '9B' '1B' '3D' '4E' '4B' '3C' '5A' '7B' '9A' '6D' '6E' '2C' '7C'\n",
      " '9C' '7D' '5E' '1D' '8D' '6C' '6A' '5B' '4D' '3A' '2B' '7E' '3B' '6F'\n",
      " '5F' '1C' 'XX']\n",
      "\n",
      "2 35\n",
      "D19_LETZTER_KAUF_BRANCHE\n",
      "<class 'str'>      634108\n",
      "<class 'float'>    257113\n",
      "Name: count, dtype: int64\n",
      "[nan 'D19_UNBEKANNT' 'D19_SCHUHE' 'D19_ENERGIE' 'D19_KOSMETIK'\n",
      " 'D19_VOLLSORTIMENT' 'D19_SONSTIGE' 'D19_BANKEN_GROSS'\n",
      " 'D19_DROGERIEARTIKEL' 'D19_HANDWERK' 'D19_BUCH_CD' 'D19_VERSICHERUNGEN'\n",
      " 'D19_VERSAND_REST' 'D19_TELKO_REST' 'D19_BANKEN_DIREKT' 'D19_BANKEN_REST'\n",
      " 'D19_FREIZEIT' 'D19_LEBENSMITTEL' 'D19_HAUS_DEKO' 'D19_BEKLEIDUNG_REST'\n",
      " 'D19_SAMMELARTIKEL' 'D19_TELKO_MOBILE' 'D19_REISEN' 'D19_BEKLEIDUNG_GEH'\n",
      " 'D19_TECHNIK' 'D19_NAHRUNGSERGAENZUNG' 'D19_DIGIT_SERV' 'D19_LOTTO'\n",
      " 'D19_RATGEBER' 'D19_TIERARTIKEL' 'D19_KINDERARTIKEL' 'D19_BIO_OEKO'\n",
      " 'D19_WEIN_FEINKOST' 'D19_GARTEN' 'D19_BILDUNG' 'D19_BANKEN_LOKAL']\n",
      "\n",
      "2 35\n",
      "D19_LETZTER_KAUF_BRANCHE\n",
      "<class 'str'>      634108\n",
      "<class 'float'>    257113\n",
      "Name: count, dtype: int64\n",
      "[nan 'D19_UNBEKANNT' 'D19_SCHUHE' 'D19_ENERGIE' 'D19_KOSMETIK'\n",
      " 'D19_VOLLSORTIMENT' 'D19_SONSTIGE' 'D19_BANKEN_GROSS'\n",
      " 'D19_DROGERIEARTIKEL' 'D19_HANDWERK' 'D19_BUCH_CD' 'D19_VERSICHERUNGEN'\n",
      " 'D19_VERSAND_REST' 'D19_TELKO_REST' 'D19_BANKEN_DIREKT' 'D19_BANKEN_REST'\n",
      " 'D19_FREIZEIT' 'D19_LEBENSMITTEL' 'D19_HAUS_DEKO' 'D19_BEKLEIDUNG_REST'\n",
      " 'D19_SAMMELARTIKEL' 'D19_TELKO_MOBILE' 'D19_REISEN' 'D19_BEKLEIDUNG_GEH'\n",
      " 'D19_TECHNIK' 'D19_NAHRUNGSERGAENZUNG' 'D19_DIGIT_SERV' 'D19_LOTTO'\n",
      " 'D19_RATGEBER' 'D19_TIERARTIKEL' 'D19_KINDERARTIKEL' 'D19_BIO_OEKO'\n",
      " 'D19_WEIN_FEINKOST' 'D19_GARTEN' 'D19_BILDUNG' 'D19_BANKEN_LOKAL']\n",
      "\n",
      "2 2\n",
      "OST_WEST_KZ\n",
      "<class 'str'>      798073\n",
      "<class 'float'>     93148\n",
      "Name: count, dtype: int64\n",
      "[nan 'W' 'O']\n",
      "\n",
      "2 2\n",
      "OST_WEST_KZ\n",
      "<class 'str'>      798073\n",
      "<class 'float'>     93148\n",
      "Name: count, dtype: int64\n",
      "[nan 'W' 'O']\n"
     ]
    }
   ],
   "source": [
    "azdias=azdias.drop(columns=['ALTER_KIND1', 'ALTER_KIND2', 'ALTER_KIND3', 'ALTER_KIND4'])\n",
    "unseen_df=prep_data(azdias,replace_flag)\n"
   ]
  },
  {
   "cell_type": "code",
   "execution_count": 39,
   "id": "796e2bb2",
   "metadata": {},
   "outputs": [
    {
     "name": "stdout",
     "output_type": "stream",
     "text": [
      "[np.float64(0.0156), np.float64(0.0), np.float64(0.0011), np.float64(0.0077), np.float64(0.0008), np.float64(0.0076), np.float64(0.001), np.float64(0.0039), np.float64(0.0001), np.float64(0.0009), np.float64(0.0017), np.float64(10.9398), np.float64(0.0), np.float64(0.0), np.float64(10.0853), np.float64(0.0006), np.float64(0.0016), np.float64(10.9398), np.float64(0.0003), np.float64(0.001), np.float64(0.0), np.float64(0.0003), np.float64(0.0002), np.float64(0.0), np.float64(10.3654), np.float64(0.001), np.float64(0.0002), np.float64(0.0016), np.float64(0.001), np.float64(0.0172), np.float64(0.0), np.float64(0.0), np.float64(0.009), np.float64(0.0016), np.float64(0.0029), np.float64(0.0284), np.float64(0.0), np.float64(0.0236), np.float64(0.0), np.float64(0.0058), np.float64(0.0005), np.float64(0.0006), np.float64(0.0015), np.float64(0.0), np.float64(0.0016), np.float64(0.0017), np.float64(0.0), np.float64(0.0085), np.float64(10.3654), np.float64(0.0), np.float64(0.0002), np.float64(0.0024), np.float64(0.0), np.float64(0.0069), np.float64(10.0853), np.float64(0.0), np.float64(0.0019), np.float64(0.0008), np.float64(0.0002), np.float64(0.0001), np.float64(0.0009), np.float64(0.0017), np.float64(0.003), np.float64(0.0003), np.float64(0.0), np.float64(0.0001), np.float64(0.0019), np.float64(0.0335), np.float64(0.0101), np.float64(10.3654), np.float64(0.0016), np.float64(0.0003), np.float64(0.0), np.float64(0.0), np.float64(0.0), np.float64(10.3654), np.float64(0.0173), np.float64(0.0105), np.float64(0.001), np.float64(0.0001), np.float64(0.0), np.float64(0.0045), np.float64(0.0003), np.float64(0.0017), np.float64(0.0001), np.float64(0.0159), np.float64(0.0295), np.float64(0.0166), np.float64(0.0002), np.float64(0.0002), np.float64(0.0), np.float64(0.0013), np.float64(0.0002), np.float64(0.0091), np.float64(0.0003), np.float64(0.0), np.float64(0.0), np.float64(10.9398), np.float64(0.0029), np.float64(11.2298)]\n"
     ]
    }
   ],
   "source": [
    "probs=get_kde_probability(unseen_df[:100], scaler, pca, kde)\n",
    "prob_density=[round(i,4) for i in probs]\n",
    "print(prob_density)"
   ]
  },
  {
   "cell_type": "markdown",
   "id": "736fd806",
   "metadata": {},
   "source": [
    "PART B: Supervised Learning"
   ]
  },
  {
   "cell_type": "code",
   "execution_count": 40,
   "id": "5ec9b52e",
   "metadata": {},
   "outputs": [
    {
     "name": "stderr",
     "output_type": "stream",
     "text": [
      "C:\\Users\\Ashish.Pandit\\AppData\\Local\\Temp\\ipykernel_33348\\3322549004.py:1: DtypeWarning: Columns (18,19) have mixed types. Specify dtype option on import or set low_memory=False.\n",
      "  mailout_test=pd.read_csv(data_path+'//Udacity_MAILOUT_052018_TEST.csv', sep=';')\n"
     ]
    },
    {
     "name": "stdout",
     "output_type": "stream",
     "text": [
      "(42833, 366)\n",
      "(42962, 367)\n"
     ]
    },
    {
     "name": "stderr",
     "output_type": "stream",
     "text": [
      "C:\\Users\\Ashish.Pandit\\AppData\\Local\\Temp\\ipykernel_33348\\3322549004.py:2: DtypeWarning: Columns (18,19) have mixed types. Specify dtype option on import or set low_memory=False.\n",
      "  mailout_train=pd.read_csv(data_path+'//Udacity_MAILOUT_052018_TRAIN.csv', sep=';')\n"
     ]
    }
   ],
   "source": [
    "\n",
    "mailout_test=pd.read_csv(data_path+'//Udacity_MAILOUT_052018_TEST.csv', sep=';')\n",
    "mailout_train=pd.read_csv(data_path+'//Udacity_MAILOUT_052018_TRAIN.csv', sep=';')\n",
    "print(mailout_test.shape)\n",
    "print(mailout_train.shape)\n"
   ]
  },
  {
   "cell_type": "code",
   "execution_count": 41,
   "id": "4b7e1b8a",
   "metadata": {},
   "outputs": [
    {
     "data": {
      "image/png": "[encoded data removed]",
      "text/plain": [
       "<Figure size 640x480 with 1 Axes>"
      ]
     },
     "metadata": {},
     "output_type": "display_data"
    },
    {
     "name": "stdout",
     "output_type": "stream",
     "text": [
      "Top 10 columns with highest missing data:\n",
      "ALTER_KIND4       99.904567\n",
      "ALTER_KIND3       99.594991\n",
      "ALTER_KIND2       98.240305\n",
      "ALTER_KIND1       95.372655\n",
      "KK_KUNDENTYP      58.926493\n",
      "EXTSEL992         37.121177\n",
      "HH_DELTA_FLAG     22.526884\n",
      "W_KEIT_KIND_HH    22.526884\n",
      "KBA05_HERST4      20.129417\n",
      "KBA05_BAUMAX      20.129417\n",
      "dtype: float64\n",
      "columns_drop  Index(['ALTER_KIND1', 'ALTER_KIND2', 'ALTER_KIND3', 'ALTER_KIND4'], dtype='object')\n"
     ]
    }
   ],
   "source": [
    "col_list_with_missing_data=get_col_list_with_missing_data(mailout_train,0.5)\n",
    "mailout_train=drop_high_missing_cols(mailout_train, threshold=0.9)"
   ]
  },
  {
   "cell_type": "code",
   "execution_count": 42,
   "id": "270fb850",
   "metadata": {},
   "outputs": [],
   "source": [
    "# Separate features and target\n",
    "X = mailout_train.drop(columns=['RESPONSE'])\n",
    "y = mailout_train['RESPONSE']\n",
    "# Split into train and test sets\n",
    "X_train, X_test, y_train, y_test = train_test_split(X, y,stratify=y, test_size=0.2, random_state=42)\n"
   ]
  },
  {
   "cell_type": "code",
   "execution_count": null,
   "id": "5bed1bf0",
   "metadata": {},
   "outputs": [
    {
     "name": "stdout",
     "output_type": "stream",
     "text": [
      "               year         month           day     hour   minute   second\n",
      "count  34369.000000  34369.000000  34369.000000  34369.0  34369.0  34369.0\n",
      "mean    1635.076813      2.456807      9.609677      0.0      0.0      0.0\n",
      "std      765.297754      2.514206      6.218119      0.0      0.0      0.0\n",
      "min        0.000000      0.000000      0.000000      0.0      0.0      0.0\n",
      "25%     1992.000000      2.000000     10.000000      0.0      0.0      0.0\n",
      "50%     1992.000000      2.000000     10.000000      0.0      0.0      0.0\n",
      "75%     1992.000000      2.000000     12.000000      0.0      0.0      0.0\n",
      "max     2015.000000     12.000000     31.000000      0.0      0.0      0.0\n",
      "\n",
      "2 45\n",
      "CAMEO_DEU_2015\n",
      "<class 'str'>      28103\n",
      "<class 'float'>     6266\n",
      "Name: count, dtype: int64\n",
      "['2D' '4A' '6A' '2B' '5D' nan '4E' '6B' '4C' '7A' '8C' '8A' '3D' '7D' '4D'\n",
      " '5B' '8D' '7B' '9D' '3A' '9E' '5F' '7C' '1A' '6C' '9C' '3C' '2C' '1D'\n",
      " '6F' '1E' '6E' '8B' '4B' '1C' '2A' '1B' '5A' '5C' '9B' '6D' '7E' '5E'\n",
      " '9A' '3B' 'XX']\n",
      "\n",
      "2 45\n",
      "CAMEO_DEU_2015\n",
      "<class 'str'>      28103\n",
      "<class 'float'>     6266\n",
      "Name: count, dtype: int64\n",
      "['2D' '4A' '6A' '2B' '5D' nan '4E' '6B' '4C' '7A' '8C' '8A' '3D' '7D' '4D'\n",
      " '5B' '8D' '7B' '9D' '3A' '9E' '5F' '7C' '1A' '6C' '9C' '3C' '2C' '1D'\n",
      " '6F' '1E' '6E' '8B' '4B' '1C' '2A' '1B' '5A' '5C' '9B' '6D' '7E' '5E'\n",
      " '9A' '3B' 'XX']\n",
      "\n",
      "2 35\n",
      "D19_LETZTER_KAUF_BRANCHE\n",
      "<class 'str'>      28356\n",
      "<class 'float'>     6013\n",
      "Name: count, dtype: int64\n",
      "['D19_SONSTIGE' 'D19_DROGERIEARTIKEL' 'D19_UNBEKANNT' 'D19_BUCH_CD'\n",
      " 'D19_VOLLSORTIMENT' nan 'D19_VERSICHERUNGEN' 'D19_VERSAND_REST'\n",
      " 'D19_HAUS_DEKO' 'D19_BEKLEIDUNG_GEH' 'D19_TELKO_MOBILE'\n",
      " 'D19_BANKEN_DIREKT' 'D19_TECHNIK' 'D19_BANKEN_GROSS' 'D19_SCHUHE'\n",
      " 'D19_TELKO_REST' 'D19_ENERGIE' 'D19_NAHRUNGSERGAENZUNG'\n",
      " 'D19_LEBENSMITTEL' 'D19_REISEN' 'D19_RATGEBER' 'D19_BEKLEIDUNG_REST'\n",
      " 'D19_WEIN_FEINKOST' 'D19_HANDWERK' 'D19_DIGIT_SERV' 'D19_KINDERARTIKEL'\n",
      " 'D19_SAMMELARTIKEL' 'D19_FREIZEIT' 'D19_BANKEN_REST' 'D19_GARTEN'\n",
      " 'D19_KOSMETIK' 'D19_BANKEN_LOKAL' 'D19_TIERARTIKEL' 'D19_BILDUNG'\n",
      " 'D19_BIO_OEKO' 'D19_LOTTO']\n",
      "\n",
      "2 35\n",
      "D19_LETZTER_KAUF_BRANCHE\n",
      "<class 'str'>      28356\n",
      "<class 'float'>     6013\n",
      "Name: count, dtype: int64\n",
      "['D19_SONSTIGE' 'D19_DROGERIEARTIKEL' 'D19_UNBEKANNT' 'D19_BUCH_CD'\n",
      " 'D19_VOLLSORTIMENT' nan 'D19_VERSICHERUNGEN' 'D19_VERSAND_REST'\n",
      " 'D19_HAUS_DEKO' 'D19_BEKLEIDUNG_GEH' 'D19_TELKO_MOBILE'\n",
      " 'D19_BANKEN_DIREKT' 'D19_TECHNIK' 'D19_BANKEN_GROSS' 'D19_SCHUHE'\n",
      " 'D19_TELKO_REST' 'D19_ENERGIE' 'D19_NAHRUNGSERGAENZUNG'\n",
      " 'D19_LEBENSMITTEL' 'D19_REISEN' 'D19_RATGEBER' 'D19_BEKLEIDUNG_REST'\n",
      " 'D19_WEIN_FEINKOST' 'D19_HANDWERK' 'D19_DIGIT_SERV' 'D19_KINDERARTIKEL'\n",
      " 'D19_SAMMELARTIKEL' 'D19_FREIZEIT' 'D19_BANKEN_REST' 'D19_GARTEN'\n",
      " 'D19_KOSMETIK' 'D19_BANKEN_LOKAL' 'D19_TIERARTIKEL' 'D19_BILDUNG'\n",
      " 'D19_BIO_OEKO' 'D19_LOTTO']\n",
      "\n",
      "2 2\n",
      "OST_WEST_KZ\n",
      "<class 'str'>      28193\n",
      "<class 'float'>     6176\n",
      "Name: count, dtype: int64\n",
      "['W' 'O' nan]\n",
      "\n",
      "2 2\n",
      "OST_WEST_KZ\n",
      "<class 'str'>      28193\n",
      "<class 'float'>     6176\n",
      "Name: count, dtype: int64\n",
      "['W' 'O' nan]\n",
      "              year        month          day    hour  minute  second\n",
      "count  8593.000000  8593.000000  8593.000000  8593.0  8593.0  8593.0\n",
      "mean   1621.907832     2.454672     9.600023     0.0     0.0     0.0\n",
      "std     776.156637     2.535194     6.287571     0.0     0.0     0.0\n",
      "min       0.000000     0.000000     0.000000     0.0     0.0     0.0\n",
      "25%    1992.000000     2.000000    10.000000     0.0     0.0     0.0\n",
      "50%    1992.000000     2.000000    10.000000     0.0     0.0     0.0\n",
      "75%    1992.000000     2.000000    12.000000     0.0     0.0     0.0\n",
      "max    2014.000000    12.000000    31.000000     0.0     0.0     0.0\n",
      "\n",
      "2 44\n",
      "CAMEO_DEU_2015\n",
      "<class 'str'>      6971\n",
      "<class 'float'>    1622\n",
      "Name: count, dtype: int64\n",
      "['5D' '3D' '3C' '4C' '8D' '7A' '3B' nan '6E' '2D' '9C' '9A' '4A' '1D' '9B'\n",
      " '2C' '9E' '1C' '6B' '8A' '8C' '4B' '1E' '6A' '7D' '9D' '8B' '5B' '1A'\n",
      " '6C' '5A' '7B' '4E' '2A' '2B' '1B' '6D' '7C' '5C' '6F' '5E' '4D' '7E'\n",
      " '3A' '5F']\n",
      "\n",
      "2 35\n",
      "D19_LETZTER_KAUF_BRANCHE\n",
      "<class 'str'>      7022\n",
      "<class 'float'>    1571\n",
      "Name: count, dtype: int64\n",
      "['D19_VERSICHERUNGEN' 'D19_BEKLEIDUNG_GEH' 'D19_UNBEKANNT' 'D19_TECHNIK'\n",
      " 'D19_DROGERIEARTIKEL' 'D19_BANKEN_GROSS' nan 'D19_BUCH_CD'\n",
      " 'D19_BANKEN_DIREKT' 'D19_HAUS_DEKO' 'D19_TELKO_MOBILE'\n",
      " 'D19_VOLLSORTIMENT' 'D19_TELKO_REST' 'D19_FREIZEIT' 'D19_SCHUHE'\n",
      " 'D19_RATGEBER' 'D19_VERSAND_REST' 'D19_SONSTIGE' 'D19_LEBENSMITTEL'\n",
      " 'D19_BEKLEIDUNG_REST' 'D19_ENERGIE' 'D19_REISEN' 'D19_GARTEN'\n",
      " 'D19_BANKEN_REST' 'D19_SAMMELARTIKEL' 'D19_HANDWERK' 'D19_WEIN_FEINKOST'\n",
      " 'D19_NAHRUNGSERGAENZUNG' 'D19_KINDERARTIKEL' 'D19_BIO_OEKO'\n",
      " 'D19_DIGIT_SERV' 'D19_TIERARTIKEL' 'D19_BANKEN_LOKAL' 'D19_BILDUNG'\n",
      " 'D19_KOSMETIK' 'D19_LOTTO']\n",
      "              year        month          day    hour  minute  second\n",
      "count  8593.000000  8593.000000  8593.000000  8593.0  8593.0  8593.0\n",
      "mean   1621.907832     2.454672     9.600023     0.0     0.0     0.0\n",
      "std     776.156637     2.535194     6.287571     0.0     0.0     0.0\n",
      "min       0.000000     0.000000     0.000000     0.0     0.0     0.0\n",
      "25%    1992.000000     2.000000    10.000000     0.0     0.0     0.0\n",
      "50%    1992.000000     2.000000    10.000000     0.0     0.0     0.0\n",
      "75%    1992.000000     2.000000    12.000000     0.0     0.0     0.0\n",
      "max    2014.000000    12.000000    31.000000     0.0     0.0     0.0\n",
      "\n",
      "2 44\n",
      "CAMEO_DEU_2015\n",
      "<class 'str'>      6971\n",
      "<class 'float'>    1622\n",
      "Name: count, dtype: int64\n",
      "['5D' '3D' '3C' '4C' '8D' '7A' '3B' nan '6E' '2D' '9C' '9A' '4A' '1D' '9B'\n",
      " '2C' '9E' '1C' '6B' '8A' '8C' '4B' '1E' '6A' '7D' '9D' '8B' '5B' '1A'\n",
      " '6C' '5A' '7B' '4E' '2A' '2B' '1B' '6D' '7C' '5C' '6F' '5E' '4D' '7E'\n",
      " '3A' '5F']\n",
      "\n",
      "2 35\n",
      "D19_LETZTER_KAUF_BRANCHE\n",
      "<class 'str'>      7022\n",
      "<class 'float'>    1571\n",
      "Name: count, dtype: int64\n",
      "['D19_VERSICHERUNGEN' 'D19_BEKLEIDUNG_GEH' 'D19_UNBEKANNT' 'D19_TECHNIK'\n",
      " 'D19_DROGERIEARTIKEL' 'D19_BANKEN_GROSS' nan 'D19_BUCH_CD'\n",
      " 'D19_BANKEN_DIREKT' 'D19_HAUS_DEKO' 'D19_TELKO_MOBILE'\n",
      " 'D19_VOLLSORTIMENT' 'D19_TELKO_REST' 'D19_FREIZEIT' 'D19_SCHUHE'\n",
      " 'D19_RATGEBER' 'D19_VERSAND_REST' 'D19_SONSTIGE' 'D19_LEBENSMITTEL'\n",
      " 'D19_BEKLEIDUNG_REST' 'D19_ENERGIE' 'D19_REISEN' 'D19_GARTEN'\n",
      " 'D19_BANKEN_REST' 'D19_SAMMELARTIKEL' 'D19_HANDWERK' 'D19_WEIN_FEINKOST'\n",
      " 'D19_NAHRUNGSERGAENZUNG' 'D19_KINDERARTIKEL' 'D19_BIO_OEKO'\n",
      " 'D19_DIGIT_SERV' 'D19_TIERARTIKEL' 'D19_BANKEN_LOKAL' 'D19_BILDUNG'\n",
      " 'D19_KOSMETIK' 'D19_LOTTO']\n",
      "\n",
      "2 2\n",
      "OST_WEST_KZ\n",
      "<class 'str'>      6992\n",
      "<class 'float'>    1601\n",
      "Name: count, dtype: int64\n",
      "['W' 'O' nan]\n",
      "\n",
      "2 2\n",
      "OST_WEST_KZ\n",
      "<class 'str'>      6992\n",
      "<class 'float'>    1601\n",
      "Name: count, dtype: int64\n",
      "['W' 'O' nan]\n"
     ]
    }
   ],
   "source": [
    "replace_flag=True\n",
    "X_train_prepped=prep_data(X_train,replace_flag)\n",
    "scaler = StandardScaler()\n",
    "X_scaled_train = scaler.fit_transform(X_train_prepped)\n",
    "\n",
    "# Prepare test data\n",
    "X_test_prepped = prep_data(X_test, replace_flag)\n",
    "# Align test data to training data columns\n",
    "X_test_prepped = X_test_prepped.reindex(columns=X_train_prepped.columns, fill_value=0)\n",
    "\n",
    "X_scaled_test = scaler.transform(X_test_prepped)"
   ]
  },
  {
   "cell_type": "markdown",
   "id": "4776c250",
   "metadata": {},
   "source": [
    "Baseline Model"
   ]
  },
  {
   "cell_type": "code",
   "execution_count": 46,
   "id": "4d3fcb6c",
   "metadata": {},
   "outputs": [
    {
     "name": "stdout",
     "output_type": "stream",
     "text": [
      "Accuracy: 0.9876643779820784\n",
      "Confusion Matrix:\n",
      " [[8487    0]\n",
      " [ 106    0]]\n",
      "Classification Report:\n",
      "               precision    recall  f1-score   support\n",
      "\n",
      "           0       0.99      1.00      0.99      8487\n",
      "           1       0.00      0.00      0.00       106\n",
      "\n",
      "    accuracy                           0.99      8593\n",
      "   macro avg       0.49      0.50      0.50      8593\n",
      "weighted avg       0.98      0.99      0.98      8593\n",
      "\n"
     ]
    },
    {
     "name": "stderr",
     "output_type": "stream",
     "text": [
      "c:\\Users\\Ashish.Pandit\\OneDrive - Shell\\Desktop\\SGP\\sgp_env\\Lib\\site-packages\\sklearn\\metrics\\_classification.py:1731: UndefinedMetricWarning: Precision is ill-defined and being set to 0.0 in labels with no predicted samples. Use `zero_division` parameter to control this behavior.\n",
      "  _warn_prf(average, modifier, f\"{metric.capitalize()} is\", result.shape[0])\n",
      "c:\\Users\\Ashish.Pandit\\OneDrive - Shell\\Desktop\\SGP\\sgp_env\\Lib\\site-packages\\sklearn\\metrics\\_classification.py:1731: UndefinedMetricWarning: Precision is ill-defined and being set to 0.0 in labels with no predicted samples. Use `zero_division` parameter to control this behavior.\n",
      "  _warn_prf(average, modifier, f\"{metric.capitalize()} is\", result.shape[0])\n",
      "c:\\Users\\Ashish.Pandit\\OneDrive - Shell\\Desktop\\SGP\\sgp_env\\Lib\\site-packages\\sklearn\\metrics\\_classification.py:1731: UndefinedMetricWarning: Precision is ill-defined and being set to 0.0 in labels with no predicted samples. Use `zero_division` parameter to control this behavior.\n",
      "  _warn_prf(average, modifier, f\"{metric.capitalize()} is\", result.shape[0])\n"
     ]
    }
   ],
   "source": [
    "# Train logistic regression\n",
    "logreg = LogisticRegression(max_iter=1000)\n",
    "logreg.fit(X_scaled_train, y_train)\n",
    "\n",
    "# Predict on test data\n",
    "y_pred = logreg.predict(X_scaled_test)\n",
    "# Evaluate performance\n",
    "print(\"Accuracy:\", accuracy_score(y_test, y_pred))\n",
    "print(\"Confusion Matrix:\\n\", confusion_matrix(y_test, y_pred))\n",
    "print(\"Classification Report:\\n\", classification_report(y_test, y_pred))"
   ]
  },
  {
   "cell_type": "markdown",
   "id": "cd1daba0",
   "metadata": {},
   "source": [
    "Refinement to improve the recall."
   ]
  },
  {
   "cell_type": "code",
   "execution_count": 63,
   "id": "78ba9505",
   "metadata": {},
   "outputs": [
    {
     "name": "stdout",
     "output_type": "stream",
     "text": [
      "[482]\n"
     ]
    }
   ],
   "source": [
    "# Train logistic regression\n",
    "logreg = LogisticRegression(class_weight='balanced',max_iter=1000)\n",
    "logreg.fit(X_scaled_train, y_train)\n",
    "print(logreg.n_iter_)\n",
    "# Predict on test data\n",
    "y_pred = logreg.predict(X_scaled_test)"
   ]
  },
  {
   "cell_type": "code",
   "execution_count": 44,
   "id": "3702bff3",
   "metadata": {},
   "outputs": [
    {
     "name": "stdout",
     "output_type": "stream",
     "text": [
      "Accuracy: 0.7684161526824159\n",
      "Confusion Matrix:\n",
      " [[6556 1931]\n",
      " [  59   47]]\n",
      "Classification Report:\n",
      "               precision    recall  f1-score   support\n",
      "\n",
      "           0       0.99      0.77      0.87      8487\n",
      "           1       0.02      0.44      0.05       106\n",
      "\n",
      "    accuracy                           0.77      8593\n",
      "   macro avg       0.51      0.61      0.46      8593\n",
      "weighted avg       0.98      0.77      0.86      8593\n",
      "\n"
     ]
    }
   ],
   "source": [
    "# Evaluate performance\n",
    "print(\"Accuracy:\", accuracy_score(y_test, y_pred))\n",
    "print(\"Confusion Matrix:\\n\", confusion_matrix(y_test, y_pred))\n",
    "print(\"Classification Report:\\n\", classification_report(y_test, y_pred))"
   ]
  },
  {
   "cell_type": "code",
   "execution_count": 66,
   "id": "154fdcd0",
   "metadata": {},
   "outputs": [
    {
     "name": "stderr",
     "output_type": "stream",
     "text": [
      "c:\\Users\\Ashish.Pandit\\OneDrive - Shell\\Desktop\\SGP\\sgp_env\\Lib\\site-packages\\sklearn\\model_selection\\_validation.py:516: FitFailedWarning: \n",
      "9 fits failed out of a total of 36.\n",
      "The score on these train-test partitions for these parameters will be set to nan.\n",
      "If these failures are not expected, you can try to debug them by setting error_score='raise'.\n",
      "\n",
      "Below are more details about the failures:\n",
      "--------------------------------------------------------------------------------\n",
      "9 fits failed with the following error:\n",
      "Traceback (most recent call last):\n",
      "  File \"c:\\Users\\Ashish.Pandit\\OneDrive - Shell\\Desktop\\SGP\\sgp_env\\Lib\\site-packages\\sklearn\\model_selection\\_validation.py\", line 859, in _fit_and_score\n",
      "    estimator.fit(X_train, y_train, **fit_params)\n",
      "  File \"c:\\Users\\Ashish.Pandit\\OneDrive - Shell\\Desktop\\SGP\\sgp_env\\Lib\\site-packages\\sklearn\\base.py\", line 1365, in wrapper\n",
      "    return fit_method(estimator, *args, **kwargs)\n",
      "           ^^^^^^^^^^^^^^^^^^^^^^^^^^^^^^^^^^^^^^\n",
      "  File \"c:\\Users\\Ashish.Pandit\\OneDrive - Shell\\Desktop\\SGP\\sgp_env\\Lib\\site-packages\\sklearn\\linear_model\\_logistic.py\", line 1218, in fit\n",
      "    solver = _check_solver(self.solver, self.penalty, self.dual)\n",
      "             ^^^^^^^^^^^^^^^^^^^^^^^^^^^^^^^^^^^^^^^^^^^^^^^^^^^\n",
      "  File \"c:\\Users\\Ashish.Pandit\\OneDrive - Shell\\Desktop\\SGP\\sgp_env\\Lib\\site-packages\\sklearn\\linear_model\\_logistic.py\", line 64, in _check_solver\n",
      "    raise ValueError(\n",
      "ValueError: Solver lbfgs supports only 'l2' or None penalties, got l1 penalty.\n",
      "\n",
      "  warnings.warn(some_fits_failed_message, FitFailedWarning)\n",
      "c:\\Users\\Ashish.Pandit\\OneDrive - Shell\\Desktop\\SGP\\sgp_env\\Lib\\site-packages\\sklearn\\model_selection\\_search.py:1135: UserWarning: One or more of the test scores are non-finite: [0.34741784        nan 0.31690141 0.27934272 0.34037559        nan\n",
      " 0.34507042 0.27230047 0.33333333        nan 0.33802817 0.26760563]\n",
      "  warnings.warn(\n"
     ]
    },
    {
     "name": "stdout",
     "output_type": "stream",
     "text": [
      "Best parameters: {'C': 0.1, 'class_weight': 'balanced', 'max_iter': 1000, 'penalty': 'l1', 'solver': 'saga'}\n",
      "Best score: 0.3474178403755868\n",
      "Accuracy: 0.7274525776795066\n",
      "Confusion Matrix:\n",
      " [[6205 2282]\n",
      " [  60   46]]\n",
      "Classification Report:\n",
      "               precision    recall  f1-score   support\n",
      "\n",
      "           0       0.99      0.73      0.84      8487\n",
      "           1       0.02      0.43      0.04       106\n",
      "\n",
      "    accuracy                           0.73      8593\n",
      "   macro avg       0.51      0.58      0.44      8593\n",
      "weighted avg       0.98      0.73      0.83      8593\n",
      "\n"
     ]
    },
    {
     "name": "stderr",
     "output_type": "stream",
     "text": [
      "c:\\Users\\Ashish.Pandit\\OneDrive - Shell\\Desktop\\SGP\\sgp_env\\Lib\\site-packages\\sklearn\\linear_model\\_sag.py:348: ConvergenceWarning: The max_iter was reached which means the coef_ did not converge\n",
      "  warnings.warn(\n"
     ]
    }
   ],
   "source": [
    "from sklearn.linear_model import LogisticRegression\n",
    "from sklearn.model_selection import GridSearchCV\n",
    "\n",
    "# Define parameter grid\n",
    "param_grid = {\n",
    "    'penalty': ['l1', 'l2'],  # Try 2 penalty types\n",
    "    'C': [0.1, 1, 10],                      # Try 3 values for regularization strength\n",
    "    'solver': ['saga', 'lbfgs'],                    # 'saga' supports all penalty types\n",
    "    'class_weight': ['balanced'],\n",
    "    'max_iter': [1000]\n",
    "}\n",
    "\n",
    "# Set up grid search\n",
    "grid_search = GridSearchCV(\n",
    "    LogisticRegression(),\n",
    "    param_grid,\n",
    "    cv=3,                 \n",
    "    scoring='recall',  \n",
    "    n_jobs=-1             \n",
    ")\n",
    "\n",
    "# Fit grid search\n",
    "grid_search.fit(X_scaled_train, y_train)\n",
    "\n",
    "# Best model and parameters\n",
    "print(\"Best parameters:\", grid_search.best_params_)\n",
    "print(\"Best score:\", grid_search.best_score_)\n",
    "\n",
    "# Predict using best estimator\n",
    "y_pred = grid_search.best_estimator_.predict(X_scaled_test)\n",
    "\n",
    "# Evaluate performance\n",
    "print(\"Accuracy:\", accuracy_score(y_test, y_pred))\n",
    "print(\"Confusion Matrix:\\n\", confusion_matrix(y_test, y_pred))\n",
    "print(\"Classification Report:\\n\", classification_report(y_test, y_pred))\n"
   ]
  },
  {
   "cell_type": "markdown",
   "id": "91a64c73",
   "metadata": {},
   "source": [
    "The results show that the performance worsened. this is probablity due to the cross validation making lesser data available to train. We may increase the number but that would take longer. "
   ]
  },
  {
   "cell_type": "markdown",
   "id": "7158df91",
   "metadata": {},
   "source": [
    "Key Insights:\n",
    "\n",
    "Without class weighting, the model fails to identify any positive responders, resulting in zero precision, recall, and F1-score — despite a high accuracy due to class imbalance.\n",
    "With class_weight='balanced', the model sacrifices some accuracy but significantly improves recall, which is crucial for identifying potential responders in marketing campaigns."
   ]
  },
  {
   "cell_type": "markdown",
   "id": "1204d2b9",
   "metadata": {},
   "source": [
    "## Improvements\n",
    "\n",
    "While the project successfully demonstrated the potential of data-driven customer segmentation and campaign response prediction, several limitations and areas for enhancement were identified. These improvements span both the unsupervised and supervised learning components.\n",
    "\n",
    "### Unsupervised Learning: Customer Segmentation\n",
    "#### 1. **Tune the KDE Bandwidth**\n",
    "- **Challenge**: A fixed bandwidth (e.g., 0.1) may not optimally capture the customer distribution.\n",
    "- **Improvement**: Use grid search or cross-validation to find the optimal bandwidth for Kernel Density Estimation (KDE), improving the accuracy of density modeling.\n",
    "\n",
    "#### 2. **Increase PCA Components**\n",
    "- **Challenge**: Using only three principal components may oversimplify the data.\n",
    "- **Improvement**: Experiment with more components to preserve additional variance and enhance the quality of segmentation.\n",
    "\n",
    "#### 3. **Evaluate KDE Fit Quality**\n",
    "- **Challenge**: Lack of diagnostics to assess KDE performance.\n",
    "- **Improvement**: Introduce metrics such as log-likelihood scores or visual diagnostics (e.g., density plots) to evaluate model fit and avoid underfitting or overfitting.\n",
    "\n",
    "#### 4. **Enhanced Feature Engineering**\n",
    "- **Challenge**: Raw features may not fully capture customer behavior.\n",
    "- **Improvement**: Derive new features that intuitively reflect customer traits, improving the separability of segments in PCA space.\n",
    "\n",
    "---\n",
    "\n",
    "### Supervised Learning: Campaign Response Prediction\n",
    "\n",
    "#### 1. **Explore Advanced Models**\n",
    "- **Challenge**: Logistic regression may not capture complex patterns.\n",
    "- **Improvement**: Test more powerful classifiers like Random Forests, Gradient Boosting (e.g., XGBoost), or neural networks for better performance.\n",
    "\n",
    "#### 2. **Optimize Hyperparameters**\n",
    "- **Challenge**: Default model settings may limit performance.\n",
    "- **Improvement**: Use grid search or randomized search with cross-validation to fine-tune parameters and boost recall.\n",
    "\n",
    "#### 3. **Address Class Imbalance**\n",
    "- **Challenge**: Minority class (responders) underrepresented.\n",
    "- **Improvement**: Apply resampling techniques like SMOTE or use ensemble methods with balanced"
   ]
  }
 ],
 "metadata": {
  "kernelspec": {
   "display_name": "sgp_env",
   "language": "python",
   "name": "python3"
  },
  "language_info": {
   "codemirror_mode": {
    "name": "ipython",
    "version": 3
   },
   "file_extension": ".py",
   "mimetype": "text/x-python",
   "name": "python",
   "nbconvert_exporter": "python",
   "pygments_lexer": "ipython3",
   "version": "3.11.2"
  }
 },
 "nbformat": 4,
 "nbformat_minor": 5
}
